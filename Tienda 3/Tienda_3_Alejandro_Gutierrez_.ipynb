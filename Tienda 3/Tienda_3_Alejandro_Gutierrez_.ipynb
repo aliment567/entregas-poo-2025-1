{
  "nbformat": 4,
  "nbformat_minor": 0,
  "metadata": {
    "colab": {
      "provenance": []
    },
    "kernelspec": {
      "name": "python3",
      "display_name": "Python 3"
    },
    "language_info": {
      "name": "python"
    }
  },
  "cells": [
    {
      "cell_type": "code",
      "execution_count": 29,
      "metadata": {
        "colab": {
          "base_uri": "https://localhost:8080/"
        },
        "id": "akM239LTMsYJ",
        "outputId": "80c58446-1c31-442e-846b-8f659111dba0"
      },
      "outputs": [
        {
          "output_type": "stream",
          "name": "stdout",
          "text": [
            "Hay un total de 3 productos en el inventario.\n",
            "¿Sobre qué producto deseas información? (producto 1, producto 2, producto 3, salir): salir\n",
            "\n",
            "> Resumen del inventario:\n",
            "|Producto     |Cantidad             |Precio           |Descripción          |Clasificación  |Total en inventario     |Precio x5 unidades     |\n",
            "|-------------|---------------------|-----------------|---------------------|---------------|------------------------|-----------------------|\n",
            "|pan          |10          unidades |500        pesos |pan tajado bimbo  ...|alimentos      |5000              pesos |2500             pesos |\n",
            "|leche        |5           unidades |3000       pesos |leche entera alque...|alimentos      |15000             pesos |15000            pesos |\n",
            "|huevo        |30          unidades |600        pesos |huevos doble A Kik...|alimentos      |18000             pesos |3000             pesos |\n",
            "\n",
            "> Precios por clasificación:\n",
            "|Clasificación  |Precio Total        |\n",
            "|---------------|--------------------|\n",
            "|alimentos      |38000          pesos|\n"
          ]
        }
      ],
      "source": [
        "\n",
        "class Producto:\n",
        "    def __init__(self, nombre, precio, cantidad, descripcion, clasificacion):\n",
        "        self.nombre = nombre\n",
        "        self.precio = precio\n",
        "        self.cantidad = cantidad\n",
        "        self.descripcion = descripcion\n",
        "        self.clasificacion = clasificacion\n",
        "    # multipilca el precio por la cantidad que es solicitada para tener el total que se va a pagar\n",
        "    def calcula_precio(self, cantidad):\n",
        "        return self.precio * cantidad\n",
        "    #Calcula el precio total del producto según la cantidad disponible en inventario.\n",
        "    def inventario_precio(self):\n",
        "        return self.precio * self.cantidad\n",
        "\n",
        "# Lista de productos predefinidos en el inventario\n",
        "productos = [\n",
        "    Producto(\"pan\", 500, 10, \"pan tajado bimbo\", \"alimentos\"),\n",
        "    Producto(\"leche\", 3000, 5, \"leche entera alquería\", \"alimentos\"),\n",
        "    Producto(\"huevo\", 600, 30, \"huevos doble A Kikkes\", \"alimentos\")\n",
        "]\n",
        "# Mostrar cantidad total de productos en el inventario\n",
        "print(f\"Hay un total de {len(productos)} productos en el inventario.\")\n",
        "\n",
        "# Bucle para permitir al usuario consultar información de los productos\n",
        "while True:\n",
        "    consulta = input(\"¿Sobre qué producto deseas información? (producto 1, producto 2, producto 3, salir): \").lower()\n",
        "\n",
        "    if consulta == \"producto 1\":\n",
        "        producto = productos[0]\n",
        "    elif consulta == \"producto 2\":\n",
        "        producto = productos[1]\n",
        "    elif consulta == \"producto 3\":\n",
        "        producto = productos[2]\n",
        "    elif consulta == \"salir\":\n",
        "        break\n",
        "    else:\n",
        "        print(\"Comando no reconocido.\")\n",
        "        continue\n",
        "    # muestra la informacion detallada del producto seleccionado\n",
        "    print(f\"El producto seleccionado es: {producto.nombre}\")\n",
        "    print(f\"Su precio es: {producto.precio} pesos\")\n",
        "    print(f\"Cantidad disponible: {producto.cantidad} unidades\")\n",
        "    print(f\"Descripción: {producto.descripcion}\")\n",
        "\n",
        "\n",
        "# Resumen de inventario en formato tabular\n",
        "print(\"\\n> Resumen del inventario:\")\n",
        "print(\"|Producto     |Cantidad             |Precio           |Descripción          |Clasificación  |Total en inventario     |Precio x5 unidades     |\")\n",
        "print(\"|-------------|---------------------|-----------------|---------------------|---------------|------------------------|-----------------------|\")\n",
        "for producto in productos:\n",
        "    print(f\"|{producto.nombre:<12} |{producto.cantidad:<11} unidades |{producto.precio:<10} pesos |{producto.descripcion[:18]:<18}...|{producto.clasificacion:<14} |{producto.inventario_precio():<17} pesos |{producto.calcula_precio(5):<16} pesos |\")\n",
        "\n",
        "# Calcular el precio total por clasificación\n",
        "precios_por_clasificacion = {}\n",
        "suma_unidad_productos = sum(producto.calcula_precio(1) for cantidad in productos)\n",
        "for producto in productos:\n",
        "    if producto.clasificacion in precios_por_clasificacion:\n",
        "        precios_por_clasificacion[producto.clasificacion] += producto.inventario_precio()\n",
        "    else:\n",
        "        precios_por_clasificacion[producto.clasificacion] = producto.inventario_precio()\n",
        "\n",
        "# Mostrar el resumen por clasificación\n",
        "print(\"\\n> Precios por clasificación:\")\n",
        "print(\"|Clasificación  |Precio Total        |\")\n",
        "print(\"|---------------|--------------------|\")\n",
        "for clasificacion, precio_total in precios_por_clasificacion.items():\n",
        "    print(f\"|{clasificacion:<14} |{precio_total:<14} pesos|\")\n",
        "\n",
        "\n",
        "\n",
        "\n"
      ]
    }
  ]
}