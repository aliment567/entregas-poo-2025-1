{
  "nbformat": 4,
  "nbformat_minor": 0,
  "metadata": {
    "colab": {
      "provenance": [],
      "authorship_tag": "ABX9TyMwHn3ed5j1ns+Sqpy60uLh",
      "include_colab_link": true
    },
    "kernelspec": {
      "name": "python3",
      "display_name": "Python 3"
    },
    "language_info": {
      "name": "python"
    }
  },
  "cells": [
    {
      "cell_type": "markdown",
      "metadata": {
        "id": "view-in-github",
        "colab_type": "text"
      },
      "source": [
        "<a href=\"https://colab.research.google.com/github/aliment567/entregas-poo-2025-1/blob/main/Tienda2_Alejandro_Gutierrez.ipynb\" target=\"_parent\"><img src=\"https://colab.research.google.com/assets/colab-badge.svg\" alt=\"Open In Colab\"/></a>"
      ]
    },
    {
      "cell_type": "code",
      "execution_count": 2,
      "metadata": {
        "colab": {
          "base_uri": "https://localhost:8080/"
        },
        "id": "7IDXmj2MW218",
        "outputId": "dec0a28c-0326-40b2-ed09-fe4005f50d7c"
      },
      "outputs": [
        {
          "output_type": "stream",
          "name": "stdout",
          "text": [
            "Hay un total de 3 productos en el inventario.\n",
            "¿Sobre qué producto deseas información? (producto 1, producto 2, producto 3, salir): producto 1\n",
            "El producto seleccionado es: pan\n",
            "Su precio es: 500 pesos\n",
            "Cantidad disponible: 10 unidades\n",
            "Descripción: pan tajado bimbo\n",
            "¿Sobre qué producto deseas información? (producto 1, producto 2, producto 3, salir): producto 2\n",
            "El producto seleccionado es: leche\n",
            "Su precio es: 3000 pesos\n",
            "Cantidad disponible: 5 unidades\n",
            "Descripción: leche entera alquería\n",
            "¿Sobre qué producto deseas información? (producto 1, producto 2, producto 3, salir): producto 3\n",
            "El producto seleccionado es: huevo\n",
            "Su precio es: 600 pesos\n",
            "Cantidad disponible: 30 unidades\n",
            "Descripción: huevos doble A Kikkes\n",
            "¿Sobre qué producto deseas información? (producto 1, producto 2, producto 3, salir): salir\n",
            "\n",
            "> Resumen:\n",
            "|Producto  |Cantidad              |Precio            |Descripción          |Clasificación |\n",
            "|----------|----------------------|------------------|---------------------|--------------|\n",
            "|pan        |10         unidades  |500        pesos  |pan tajado bimbo  ...|alimentos    |\n",
            "|leche      |5          unidades  |3000       pesos  |leche entera alque...|alimentos    |\n",
            "|huevo      |30         unidades  |600        pesos  |huevos doble A Kik...|alimentos    |\n",
            "\n",
            "> Precios por clasificación\n",
            "|Clasificación  |Precio           |\n",
            "|---------------|-----------------|\n",
            "|alimentos      |38000      pesos |\n"
          ]
        }
      ],
      "source": [
        "class Producto:\n",
        "    def __init__(self, nombre, precio, cantidad, descripcion, clasificacion):\n",
        "        self.nombre = nombre\n",
        "        self.precio = precio\n",
        "        self.cantidad = cantidad\n",
        "        self.descripcion = descripcion\n",
        "        self.clasificacion = clasificacion\n",
        "# es la Lista de productos predefinidos en el inventario\n",
        "productos = [\n",
        "    Producto(\"pan\", 500, 10, \"pan tajado bimbo\", \"alimentos\"),\n",
        "    Producto(\"leche\", 3000, 5, \"leche entera alquería\", \"alimentos\"),\n",
        "    Producto(\"huevo\", 600, 30, \"huevos doble A Kikkes\", \"alimentos\")\n",
        "]\n",
        "# muestra la cantidad total de loes productos que estan predefinidos en el inventario\n",
        "print(f\"Hay un total de {len(productos)} productos en el inventario.\")\n",
        "# Bucle para permitir al usuario consultar información de los productos\n",
        "while True:\n",
        "    consulta = input(\"¿Sobre qué producto deseas información? (producto 1, producto 2, producto 3, salir): \").lower()\n",
        "\n",
        "    if consulta == \"producto 1\":\n",
        "        producto = productos[0]\n",
        "    elif consulta == \"producto 2\":\n",
        "        producto = productos[1]\n",
        "    elif consulta == \"producto 3\":\n",
        "        producto = productos[2]\n",
        "    elif consulta == \"salir\":\n",
        "        break\n",
        "    else:\n",
        "        print(\"Comando no reconocido.\")\n",
        "        continue\n",
        "    # muestra la informacion detallada del producto seleccionado\n",
        "    print(f\"El producto seleccionado es: {producto.nombre}\")\n",
        "    print(f\"Su precio es: {producto.precio} pesos\")\n",
        "    print(f\"Cantidad disponible: {producto.cantidad} unidades\")\n",
        "    print(f\"Descripción: {producto.descripcion}\")\n",
        "\n",
        "# Muestrar un resume de los productos ingresados\n",
        "def mostrar_inventario():\n",
        "    print(\"\\n> Resumen:\")\n",
        "    print(\"|Producto  |Cantidad              |Precio            |Descripción          |Clasificación |\")\n",
        "    print(\"|----------|----------------------|------------------|---------------------|--------------|\")\n",
        "    for producto in productos:\n",
        "        print(f\"|{producto.nombre:<10} |{producto.cantidad:<10} unidades  |{producto.precio:<10} pesos  |{producto.descripcion[:18]:<18}...|{producto.clasificacion:<12} |\")\n",
        "\n",
        "mostrar_inventario()\n",
        "\n",
        "# Calcula el precio total por clasificación\n",
        "precios_por_clasificacion = {}\n",
        "for producto in productos:\n",
        "    if producto.clasificacion in precios_por_clasificacion:\n",
        "        precios_por_clasificacion[producto.clasificacion] += producto.precio * producto.cantidad\n",
        "    else:\n",
        "        precios_por_clasificacion[producto.clasificacion] = producto.precio * producto.cantidad\n",
        "\n",
        "# Muestra el resumen por clasificación\n",
        "print(\"\\n> Precios por clasificación\")\n",
        "print(\"|Clasificación  |Precio           |\")\n",
        "print(\"|---------------|-----------------|\")\n",
        "for clasificacion, precio_total in precios_por_clasificacion.items():\n",
        "    print(f\"|{clasificacion:<14} |{precio_total:<10} pesos |\")"
      ]
    }
  ]
}